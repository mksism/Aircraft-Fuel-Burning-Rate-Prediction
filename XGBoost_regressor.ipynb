{
 "cells": [
  {
   "cell_type": "code",
   "execution_count": 150,
   "metadata": {
    "collapsed": true
   },
   "outputs": [],
   "source": [
    "import pandas as pd \n",
    "import numpy as np\n",
    "import math\n",
    "from sklearn.metrics import mean_squared_error\n",
    "from sklearn.svm import SVR\n",
    "from sklearn.model_selection import GridSearchCV\n",
    "import matplotlib.pyplot as plt\n",
    "from sklearn.ensemble import RandomForestRegressor\n",
    "from sklearn.metrics import roc_auc_score\n",
    "from sklearn.model_selection import  train_test_split\n",
    "import glob"
   ]
  },
  {
   "cell_type": "code",
   "execution_count": 151,
   "metadata": {
    "collapsed": true
   },
   "outputs": [],
   "source": [
    "data = pd.read_csv('10sec_avg_200files_ph5_train.csv')"
   ]
  },
  {
   "cell_type": "code",
   "execution_count": 152,
   "metadata": {
    "collapsed": true
   },
   "outputs": [],
   "source": [
    "# path =r'F:/DEC29/Udemy/CODE/DataAVG4/Test1/' # use your path\n",
    "# allFiles = glob.glob(path + \"/*.csv\")\n",
    "# test_data = pd.DataFrame()\n",
    "# list_ = []\n",
    "# for file_ in allFiles:\n",
    "#     df = pd.read_csv(file_,index_col=None, header=0)\n",
    "#     list_.append(df)\n",
    "# test_data = pd.concat(list_)\n",
    "# print(test_data.shape)"
   ]
  },
  {
   "cell_type": "code",
   "execution_count": 153,
   "metadata": {
    "collapsed": true
   },
   "outputs": [],
   "source": [
    "# test_data.to_csv('DataAVG4_Test3.csv',index=False,header=True)"
   ]
  },
  {
   "cell_type": "code",
   "execution_count": 154,
   "metadata": {},
   "outputs": [],
   "source": [
    "test_data = pd.read_csv('DataAVG3_Test1.csv')"
   ]
  },
  {
   "cell_type": "code",
   "execution_count": 155,
   "metadata": {
    "collapsed": true
   },
   "outputs": [],
   "source": [
    "test_data = test_data.loc[test_data['PH']==5]"
   ]
  },
  {
   "cell_type": "code",
   "execution_count": 156,
   "metadata": {
    "collapsed": true
   },
   "outputs": [],
   "source": [
    "data['New_feature_6'] = data.apply(lambda row: abs((row['TAS_Mean']*row['TAS_Mean'])+(row['VSPS']*row['VSPS'])), axis=1)\n",
    "data['New_feature_5'] = data.apply(lambda row: row['WS_Mean']+row['WS_Mean']*math.tan(math.radians(row['WD_Mean'])), axis=1)\n",
    "data['New_feature_8'] = data.apply(lambda row: row['WS_Mean']-row['WS_Mean']*math.tan(math.radians(row['WD_Mean'])), axis=1)\n",
    "data['New_feature_4'] = data.apply(lambda row: row['WS_Mean']+row['WD_Mean'], axis=1)\n",
    "data['New_feature_1'] = data.apply(lambda row: row['GS_Mean']/math.cos(math.radians(row['WD_Mean'])), axis=1)\n",
    "data['New_feature_3'] = data.apply(lambda row: ((row['GS_Mean']-row['CAS_Mean'])), axis=1)\n",
    "data['New_feature_2'] = data.apply(lambda row: math.tan(math.radians(row['WD_Mean']))*row['VIB_1_Mean'], axis=1)\n",
    "data['New_feature'] = data.apply(lambda row: row['N1T_Mean']/row['TAS_Mean'], axis=1)"
   ]
  },
  {
   "cell_type": "code",
   "execution_count": 157,
   "metadata": {
    "collapsed": true
   },
   "outputs": [],
   "source": [
    "test_data['New_feature_6'] = test_data.apply(lambda row: abs((row['TAS_Mean']*row['TAS_Mean'])+(row['VSPS']*row['VSPS'])), axis=1)\n",
    "test_data['New_feature_5'] = test_data.apply(lambda row: row['WS_Mean']+row['WS_Mean']*math.tan(math.radians(row['WD_Mean'])), axis=1)\n",
    "test_data['New_feature_8'] = test_data.apply(lambda row: row['WS_Mean']-row['WS_Mean']*math.tan(math.radians(row['WD_Mean'])), axis=1)\n",
    "test_data['New_feature_4'] = test_data.apply(lambda row: row['WS_Mean']+row['WD_Mean'], axis=1)\n",
    "test_data['New_feature_1'] = test_data.apply(lambda row: row['GS_Mean']/math.cos(math.radians(row['WD_Mean'])), axis=1)\n",
    "test_data['New_feature_3'] = test_data.apply(lambda row: ((row['GS_Mean']-row['CAS_Mean'])), axis=1)\n",
    "test_data['New_feature_2'] = test_data.apply(lambda row: math.tan(math.radians(row['WD_Mean']))*row['VIB_1_Mean'], axis=1)\n",
    "test_data['New_feature'] = test_data.apply(lambda row: row['N1T_Mean']/row['TAS_Mean'], axis=1)"
   ]
  },
  {
   "cell_type": "code",
   "execution_count": 158,
   "metadata": {},
   "outputs": [
    {
     "name": "stdout",
     "output_type": "stream",
     "text": [
      "24\n"
     ]
    }
   ],
   "source": [
    "columns=['PH',\\\n",
    "         'FQTY_1',\\\n",
    "         'PTRM','SAT','VMODE','VSPS',\\\n",
    "         'RUDP_Mean','ALT_Mean','ALTR_Mean',\\\n",
    "         'CAS_Mean','N1T_Mean','TAS_Mean','WS_Mean','GS_Mean',\\\n",
    "         'TRK_Mean','WD_Mean','VIB_1_Mean','ROLL_Mean',\\\n",
    "         'FF','New_feature','New_feature_1','New_feature_3','New_feature_5','New_feature_4']\n",
    "print(len(columns))"
   ]
  },
  {
   "cell_type": "code",
   "execution_count": 159,
   "metadata": {
    "collapsed": true
   },
   "outputs": [],
   "source": [
    "train1=data[columns]\n",
    "test1=test_data[columns]"
   ]
  },
  {
   "cell_type": "code",
   "execution_count": 160,
   "metadata": {
    "collapsed": true
   },
   "outputs": [],
   "source": [
    "train = train1.loc[train1['PH']==5]\n",
    "test = test1.loc[test1['PH']==5]"
   ]
  },
  {
   "cell_type": "code",
   "execution_count": 161,
   "metadata": {},
   "outputs": [],
   "source": [
    "# print(test.shape)\n",
    "# test = test.groupby(lambda x:x//2).mean()\n",
    "# train = train.groupby(lambda x:x//2).mean()\n",
    "# print(test.shape)\n",
    "# print(train.shape)"
   ]
  },
  {
   "cell_type": "code",
   "execution_count": 162,
   "metadata": {
    "collapsed": true
   },
   "outputs": [],
   "source": [
    "y_train=train.loc[:,['FF']]\n",
    "X_train=train.drop(['FF','PH'],axis=1)\n",
    "y_test=test.loc[:,'FF']\n",
    "X_test=test.drop(['FF','PH'],axis=1)"
   ]
  },
  {
   "cell_type": "code",
   "execution_count": 163,
   "metadata": {
    "collapsed": true
   },
   "outputs": [],
   "source": [
    "#Standardizing the variables\n",
    "from sklearn.preprocessing import StandardScaler\n",
    "scaler=StandardScaler().fit(X_train)\n",
    "X_train=pd.DataFrame(scaler.transform(X_train),columns=X_train.columns)"
   ]
  },
  {
   "cell_type": "code",
   "execution_count": 164,
   "metadata": {
    "collapsed": true
   },
   "outputs": [],
   "source": [
    "X_test=pd.DataFrame(scaler.transform(X_test),columns=X_test.columns)"
   ]
  },
  {
   "cell_type": "code",
   "execution_count": 165,
   "metadata": {
    "collapsed": true
   },
   "outputs": [],
   "source": [
    "from xgboost import XGBRegressor\n",
    "from sklearn.model_selection import GridSearchCV\n",
    "import numpy as np\n",
    "\n",
    "# parameters={'n_estimators':[500,1000,1500,2000,2500],\n",
    "# 'learning_rate':[0.001,0.01,0.1,1],'max_depth':[5,6,7,8],\n",
    "#           'subsample':[0.2,0.5,0.8],'reg_lambda':[0.5,0.6,0.8]}\n",
    "\n",
    "# model_xgboost=GridSearchCV(XGBRegressor(),parameters)\n",
    "model_xgboost=XGBRegressor(n_estimators=1000,learning_rate=0.3,\\\n",
    "                           subsample=.9,reg_lambda=0.4,max_depth = 7,gamma = 9,min_child_weight = 2,colsample_bytree = 1)\n",
    "regr=model_xgboost.fit(X_train,y_train)\n",
    "\n",
    "predict_train=regr.predict(X_train)"
   ]
  },
  {
   "cell_type": "code",
   "execution_count": 166,
   "metadata": {},
   "outputs": [
    {
     "name": "stdout",
     "output_type": "stream",
     "text": [
      "train absolute error is 2.15229373297\n",
      "test absolute error is 116.008630189\n",
      "train mean squared error is 2.86374665808\n",
      "test root mean squared error is 179.361688465\n",
      "Mean Absolute Percentage Error:  2.4151262093925228\n"
     ]
    }
   ],
   "source": [
    "predict_test=regr.predict(X_test)\n",
    "\n",
    "from sklearn.metrics import mean_absolute_error,mean_squared_error\n",
    "print(\"train absolute error is\",mean_absolute_error(np.array(y_train),predict_train))\n",
    "\n",
    "print(\"test absolute error is\",mean_absolute_error(np.array(y_test),predict_test))\n",
    "print(\"train mean squared error is\",np.sqrt(mean_squared_error(np.array(y_train),predict_train)))\n",
    "\n",
    "print(\"test root mean squared error is\",np.sqrt(mean_squared_error(np.array(y_test),predict_test)))\n",
    "\n",
    "print(\"Mean Absolute Percentage Error: \", (np.mean(np.abs(y_test - predict_test) / y_test) * 100))"
   ]
  },
  {
   "cell_type": "code",
   "execution_count": 167,
   "metadata": {},
   "outputs": [],
   "source": [
    "output =predict_test\n",
    "outputdataframe=pd.DataFrame(output)\n",
    "\n",
    "outputdataframe.to_csv('output1.csv', index=False, header=True)"
   ]
  },
  {
   "cell_type": "code",
   "execution_count": 131,
   "metadata": {},
   "outputs": [
    {
     "data": {
      "image/png": "[encoded data removed]",
      "text/plain": [
       "<matplotlib.figure.Figure at 0x2d9b3787eb8>"
      ]
     },
     "metadata": {},
     "output_type": "display_data"
    }
   ],
   "source": [
    "plt.scatter(predict_test,  \n",
    "             y_test, \n",
    "            c='limegreen',\n",
    "            edgecolor='white',\n",
    "            marker='s', \n",
    "            s=35,\n",
    "            alpha=0.9,\n",
    "            label='test data')\n",
    "# plt.scatter(predict_train,  \n",
    "#             predict_train - y_train, \n",
    "#             c='steelblue',\n",
    "#             edgecolor='white',\n",
    "#             marker='o', \n",
    "#             s=35,\n",
    "#             alpha=0.9,\n",
    "#             label='training data')\n",
    "\n",
    "plt.xlabel('Predicted values')\n",
    "plt.ylabel('Residuals')\n",
    "plt.show()"
   ]
  },
  {
   "cell_type": "code",
   "execution_count": 110,
   "metadata": {
    "collapsed": true
   },
   "outputs": [],
   "source": [
    "# from sklearn.ensemble import RandomForestClassifier\n",
    "\n",
    "# feat_labels = X_train.columns[1:]\n",
    "\n",
    "# forest = RandomForestClassifier(n_estimators=25,\n",
    "#                                 random_state=1)"
   ]
  },
  {
   "cell_type": "code",
   "execution_count": 111,
   "metadata": {
    "collapsed": true
   },
   "outputs": [],
   "source": [
    "# y_train = y_train.astype('int')"
   ]
  },
  {
   "cell_type": "code",
   "execution_count": 112,
   "metadata": {},
   "outputs": [
    {
     "name": "stderr",
     "output_type": "stream",
     "text": [
      "C:\\Users\\MKS\\Anaconda3\\lib\\site-packages\\ipykernel_launcher.py:1: DataConversionWarning: A column-vector y was passed when a 1d array was expected. Please change the shape of y to (n_samples,), for example using ravel().\n",
      "  \"\"\"Entry point for launching an IPython kernel.\n"
     ]
    },
    {
     "data": {
      "text/plain": [
       "RandomForestClassifier(bootstrap=True, class_weight=None, criterion='gini',\n",
       "            max_depth=None, max_features='auto', max_leaf_nodes=None,\n",
       "            min_impurity_split=1e-07, min_samples_leaf=1,\n",
       "            min_samples_split=2, min_weight_fraction_leaf=0.0,\n",
       "            n_estimators=25, n_jobs=1, oob_score=False, random_state=1,\n",
       "            verbose=0, warm_start=False)"
      ]
     },
     "execution_count": 112,
     "metadata": {},
     "output_type": "execute_result"
    }
   ],
   "source": [
    "# forest.fit(X_train, y_train)"
   ]
  },
  {
   "cell_type": "code",
   "execution_count": 113,
   "metadata": {},
   "outputs": [
    {
     "name": "stdout",
     "output_type": "stream",
     "text": [
      "N1T_Mean\n",
      "CAS_Mean\n",
      "TRK_Mean\n",
      "ROLL_Mean\n",
      "New_feature\n",
      "ALTR_Mean\n",
      "ALT_Mean\n",
      "RUDP_Mean\n",
      "New_feature_4\n",
      "FQTY_1\n",
      "WS_Mean\n",
      "WD_Mean\n",
      "GS_Mean\n",
      "TAS_Mean\n",
      "PTRM\n",
      "New_feature_3\n",
      "SAT\n",
      "New_feature_1\n",
      "New_feature_5\n",
      "VIB_1_Mean\n",
      "VSPS\n",
      "VMODE\n"
     ]
    },
    {
     "data": {
      "text/plain": [
       "array([ 9,  8, 13, 16, 17,  7,  6,  5, 21,  0, 11, 14, 12, 10,  1, 19,  2,\n",
       "       18, 20, 15,  4,  3], dtype=int64)"
      ]
     },
     "execution_count": 113,
     "metadata": {},
     "output_type": "execute_result"
    }
   ],
   "source": [
    "# importances = forest.feature_importances_\n",
    "# indices = np.argsort(importances)[::-1]\n",
    "# # for f in range(X_train.shape[1]):\n",
    "# #     print(\"%2d) %-*s %f\" % (f + 1, 41, \n",
    "# #                             feat_labels[indices[f]], \n",
    "# #                             importances[indices[f]]))\n",
    "\n",
    "# for f in indices:\n",
    "#     print(X_train.iloc[:,f].name)\n",
    "    \n",
    "# # plt.title('Feature Importance')\n",
    "# # plt.bar(range(X_train.shape[1]), \n",
    "# #         importances[indices],\n",
    "# #         align='center')\n",
    "\n",
    "# # plt.xticks(range(X_train.shape[1]), \n",
    "# #            feat_labels[indices], rotation=90)\n",
    "# # plt.xlim([-1, X_train.shape[1]])\n",
    "# # plt.tight_layout()\n",
    "# # #plt.savefig('images/04_09.png', dpi=300)\n",
    "# # plt.show()\n",
    "# indices"
   ]
  },
  {
   "cell_type": "code",
   "execution_count": null,
   "metadata": {
    "collapsed": true
   },
   "outputs": [],
   "source": []
  }
 ],
 "metadata": {
  "kernelspec": {
   "display_name": "Python 3",
   "language": "python",
   "name": "python3"
  },
  "language_info": {
   "codemirror_mode": {
    "name": "ipython",
    "version": 3
   },
   "file_extension": ".py",
   "mimetype": "text/x-python",
   "name": "python",
   "nbconvert_exporter": "python",
   "pygments_lexer": "ipython3",
   "version": "3.6.1"
  }
 },
 "nbformat": 4,
 "nbformat_minor": 2
}
